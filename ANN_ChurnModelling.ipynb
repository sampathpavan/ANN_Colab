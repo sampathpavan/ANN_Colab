{
  "nbformat": 4,
  "nbformat_minor": 0,
  "metadata": {
    "colab": {
      "name": "Untitled4.ipynb",
      "provenance": [],
      "authorship_tag": "ABX9TyP/D4HyhMK8gKTOv7McMIs5",
      "include_colab_link": true
    },
    "kernelspec": {
      "name": "python3",
      "display_name": "Python 3"
    },
    "language_info": {
      "name": "python"
    },
    "accelerator": "GPU"
  },
  "cells": [
    {
      "cell_type": "markdown",
      "metadata": {
        "id": "view-in-github",
        "colab_type": "text"
      },
      "source": [
        "<a href=\"https://colab.research.google.com/github/sampathpavan/ANN_Colab/blob/main/ANN_ChurnModelling.ipynb\" target=\"_parent\"><img src=\"https://colab.research.google.com/assets/colab-badge.svg\" alt=\"Open In Colab\"/></a>"
      ]
    },
    {
      "cell_type": "code",
      "metadata": {
        "id": "03pOSzf0ZT4r"
      },
      "source": [
        "import tensorflow as tf"
      ],
      "execution_count": null,
      "outputs": []
    },
    {
      "cell_type": "code",
      "metadata": {
        "colab": {
          "base_uri": "https://localhost:8080/",
          "height": 35
        },
        "id": "_UPOaVqTZfIL",
        "outputId": "65470af7-6d56-4ef0-d6dd-601deeb6f039"
      },
      "source": [
        "tf.test.gpu_device_name()"
      ],
      "execution_count": null,
      "outputs": [
        {
          "output_type": "execute_result",
          "data": {
            "application/vnd.google.colaboratory.intrinsic+json": {
              "type": "string"
            },
            "text/plain": [
              "'/device:GPU:0'"
            ]
          },
          "metadata": {
            "tags": []
          },
          "execution_count": 2
        }
      ]
    },
    {
      "cell_type": "code",
      "metadata": {
        "id": "0KIBFK62Zm1w"
      },
      "source": [
        ""
      ],
      "execution_count": null,
      "outputs": []
    },
    {
      "cell_type": "code",
      "metadata": {
        "colab": {
          "base_uri": "https://localhost:8080/"
        },
        "id": "SIkFvnniZ9yH",
        "outputId": "a68701e3-30ff-4062-8629-0f45153dbd20"
      },
      "source": [
        "from google.colab import drive\n",
        "drive.mount('/content/drive')"
      ],
      "execution_count": null,
      "outputs": [
        {
          "output_type": "stream",
          "text": [
            "Mounted at /content/drive\n"
          ],
          "name": "stdout"
        }
      ]
    },
    {
      "cell_type": "code",
      "metadata": {
        "id": "SoBAP167Z-vS"
      },
      "source": [
        "pip install -q keras"
      ],
      "execution_count": null,
      "outputs": []
    },
    {
      "cell_type": "code",
      "metadata": {
        "id": "1Ff8ktpCabEs"
      },
      "source": [
        "import pandas as pd"
      ],
      "execution_count": null,
      "outputs": []
    },
    {
      "cell_type": "code",
      "metadata": {
        "colab": {
          "base_uri": "https://localhost:8080/"
        },
        "id": "Oe6GWhhaahBu",
        "outputId": "e5e63f40-a9e0-4341-b927-48c67ff18c3d"
      },
      "source": [
        "import numpy as np\n",
        "import matplotlib.pyplot as plt\n",
        "import pandas as pd\n",
        "\n",
        "# Importing the dataset\n",
        "dataset = pd.read_csv('/content/drive/MyDrive/dataset/Churn_Modelling.csv')\n",
        "X = dataset.iloc[:, 3:13]\n",
        "y = dataset.iloc[:, 13]\n",
        "\n",
        "#Create dummy variables\n",
        "geography=pd.get_dummies(X[\"Geography\"],drop_first=True)\n",
        "gender=pd.get_dummies(X['Gender'],drop_first=True)\n",
        "\n",
        "## Concatenate the Data Frames\n",
        "\n",
        "X=pd.concat([X,geography,gender],axis=1)\n",
        "\n",
        "## Drop Unnecessary columns\n",
        "X=X.drop(['Geography','Gender'],axis=1)\n",
        "\n",
        "# Splitting the dataset into the Training set and Test set\n",
        "from sklearn.model_selection import train_test_split\n",
        "X_train, X_test, y_train, y_test = train_test_split(X, y, test_size = 0.2, random_state = 0)\n",
        "\n",
        "# Feature Scaling\n",
        "from sklearn.preprocessing import StandardScaler\n",
        "sc = StandardScaler()\n",
        "X_train = sc.fit_transform(X_train)\n",
        "X_test = sc.transform(X_test)\n",
        "\n",
        "# Part 2 - Now let's make the ANN!\n",
        "\n",
        "# Importing the Keras libraries and packages\n",
        "import keras\n",
        "from keras.models import Sequential\n",
        "from keras.layers import Dense\n",
        "from keras.layers import LeakyReLU,PReLU,ELU\n",
        "from keras.layers import Dropout\n",
        "\n",
        "\n",
        "# Initialising the ANN\n",
        "classifier = Sequential()\n",
        "\n",
        "# Adding the input layer and the first hidden layer\n",
        "classifier.add(Dense(units= 6, kernel_initializer = 'he_uniform',activation='relu',input_dim = 11))\n",
        "\n",
        "# Adding the second hidden layer\n",
        "classifier.add(Dense(units= 6, kernel_initializer = 'he_uniform',activation='relu'))\n",
        "# Adding the output layer\n",
        "classifier.add(Dense(units= 1, kernel_initializer = 'glorot_uniform', activation = 'sigmoid'))\n",
        "\n",
        "# Compiling the ANN\n",
        "classifier.compile(optimizer = 'Adam', loss = 'binary_crossentropy', metrics = ['accuracy'])\n",
        "\n",
        "# Fitting the ANN to the Training set\n",
        "model_history=classifier.fit(X_train, y_train,validation_split=0.33, batch_size = 10, epochs = 100)\n",
        "\n",
        "# list all data in history\n",
        "\n",
        "print(model_history.history.keys())\n",
        "# summarize history for accuracy\n",
        "\n",
        "# Part 3 - Making the predictions and evaluating the model\n",
        "\n",
        "# Predicting the Test set results\n",
        "y_pred = classifier.predict(X_test)\n",
        "y_pred = (y_pred > 0.5)\n",
        "\n",
        "# Making the Confusion Matrix\n",
        "from sklearn.metrics import confusion_matrix\n",
        "cm = confusion_matrix(y_test, y_pred)\n",
        "\n",
        "# Calculate the Accuracy\n",
        "from sklearn.metrics import accuracy_score\n",
        "score=accuracy_score(y_pred,y_test)\n"
      ],
      "execution_count": null,
      "outputs": [
        {
          "output_type": "stream",
          "text": [
            "Epoch 1/100\n",
            "536/536 [==============================] - 3s 4ms/step - loss: 0.6036 - accuracy: 0.7785 - val_loss: 0.5279 - val_accuracy: 0.7955\n",
            "Epoch 2/100\n",
            "536/536 [==============================] - 2s 3ms/step - loss: 0.5078 - accuracy: 0.7971 - val_loss: 0.4816 - val_accuracy: 0.7955\n",
            "Epoch 3/100\n",
            "536/536 [==============================] - 2s 4ms/step - loss: 0.4732 - accuracy: 0.7935 - val_loss: 0.4565 - val_accuracy: 0.7955\n",
            "Epoch 4/100\n",
            "536/536 [==============================] - 2s 3ms/step - loss: 0.4400 - accuracy: 0.7917 - val_loss: 0.4444 - val_accuracy: 0.7955\n",
            "Epoch 5/100\n",
            "536/536 [==============================] - 2s 3ms/step - loss: 0.4378 - accuracy: 0.7951 - val_loss: 0.4383 - val_accuracy: 0.7955\n",
            "Epoch 6/100\n",
            "536/536 [==============================] - 2s 3ms/step - loss: 0.4248 - accuracy: 0.7990 - val_loss: 0.4339 - val_accuracy: 0.7955\n",
            "Epoch 7/100\n",
            "536/536 [==============================] - 2s 3ms/step - loss: 0.4160 - accuracy: 0.8003 - val_loss: 0.4307 - val_accuracy: 0.8145\n",
            "Epoch 8/100\n",
            "536/536 [==============================] - 2s 3ms/step - loss: 0.4214 - accuracy: 0.8235 - val_loss: 0.4280 - val_accuracy: 0.8183\n",
            "Epoch 9/100\n",
            "536/536 [==============================] - 2s 3ms/step - loss: 0.4147 - accuracy: 0.8250 - val_loss: 0.4250 - val_accuracy: 0.8198\n",
            "Epoch 10/100\n",
            "536/536 [==============================] - 2s 3ms/step - loss: 0.4215 - accuracy: 0.8254 - val_loss: 0.4225 - val_accuracy: 0.8183\n",
            "Epoch 11/100\n",
            "536/536 [==============================] - 2s 3ms/step - loss: 0.4047 - accuracy: 0.8329 - val_loss: 0.4204 - val_accuracy: 0.8217\n",
            "Epoch 12/100\n",
            "536/536 [==============================] - 2s 3ms/step - loss: 0.4075 - accuracy: 0.8312 - val_loss: 0.4182 - val_accuracy: 0.8228\n",
            "Epoch 13/100\n",
            "536/536 [==============================] - 2s 4ms/step - loss: 0.4078 - accuracy: 0.8350 - val_loss: 0.4160 - val_accuracy: 0.8220\n",
            "Epoch 14/100\n",
            "536/536 [==============================] - 2s 4ms/step - loss: 0.4021 - accuracy: 0.8299 - val_loss: 0.4150 - val_accuracy: 0.8220\n",
            "Epoch 15/100\n",
            "536/536 [==============================] - 2s 4ms/step - loss: 0.3924 - accuracy: 0.8353 - val_loss: 0.4134 - val_accuracy: 0.8228\n",
            "Epoch 16/100\n",
            "536/536 [==============================] - 2s 4ms/step - loss: 0.3934 - accuracy: 0.8352 - val_loss: 0.4117 - val_accuracy: 0.8251\n",
            "Epoch 17/100\n",
            "536/536 [==============================] - 2s 3ms/step - loss: 0.3973 - accuracy: 0.8308 - val_loss: 0.4103 - val_accuracy: 0.8266\n",
            "Epoch 18/100\n",
            "536/536 [==============================] - 2s 4ms/step - loss: 0.3868 - accuracy: 0.8443 - val_loss: 0.4084 - val_accuracy: 0.8243\n",
            "Epoch 19/100\n",
            "536/536 [==============================] - 2s 4ms/step - loss: 0.3930 - accuracy: 0.8338 - val_loss: 0.4053 - val_accuracy: 0.8243\n",
            "Epoch 20/100\n",
            "536/536 [==============================] - 2s 4ms/step - loss: 0.3841 - accuracy: 0.8404 - val_loss: 0.4021 - val_accuracy: 0.8285\n",
            "Epoch 21/100\n",
            "536/536 [==============================] - 2s 4ms/step - loss: 0.3906 - accuracy: 0.8373 - val_loss: 0.3973 - val_accuracy: 0.8258\n",
            "Epoch 22/100\n",
            "536/536 [==============================] - 2s 4ms/step - loss: 0.3679 - accuracy: 0.8466 - val_loss: 0.3899 - val_accuracy: 0.8334\n",
            "Epoch 23/100\n",
            "536/536 [==============================] - 2s 3ms/step - loss: 0.3679 - accuracy: 0.8481 - val_loss: 0.3835 - val_accuracy: 0.8379\n",
            "Epoch 24/100\n",
            "536/536 [==============================] - 2s 4ms/step - loss: 0.3595 - accuracy: 0.8592 - val_loss: 0.3775 - val_accuracy: 0.8413\n",
            "Epoch 25/100\n",
            "536/536 [==============================] - 2s 3ms/step - loss: 0.3556 - accuracy: 0.8535 - val_loss: 0.3718 - val_accuracy: 0.8436\n",
            "Epoch 26/100\n",
            "536/536 [==============================] - 2s 3ms/step - loss: 0.3558 - accuracy: 0.8610 - val_loss: 0.3683 - val_accuracy: 0.8451\n",
            "Epoch 27/100\n",
            "536/536 [==============================] - 2s 4ms/step - loss: 0.3411 - accuracy: 0.8597 - val_loss: 0.3622 - val_accuracy: 0.8474\n",
            "Epoch 28/100\n",
            "536/536 [==============================] - 2s 3ms/step - loss: 0.3401 - accuracy: 0.8576 - val_loss: 0.3605 - val_accuracy: 0.8459\n",
            "Epoch 29/100\n",
            "536/536 [==============================] - 2s 3ms/step - loss: 0.3487 - accuracy: 0.8525 - val_loss: 0.3601 - val_accuracy: 0.8459\n",
            "Epoch 30/100\n",
            "536/536 [==============================] - 2s 3ms/step - loss: 0.3393 - accuracy: 0.8590 - val_loss: 0.3564 - val_accuracy: 0.8482\n",
            "Epoch 31/100\n",
            "536/536 [==============================] - 2s 4ms/step - loss: 0.3385 - accuracy: 0.8589 - val_loss: 0.3559 - val_accuracy: 0.8516\n",
            "Epoch 32/100\n",
            "536/536 [==============================] - 2s 4ms/step - loss: 0.3305 - accuracy: 0.8631 - val_loss: 0.3588 - val_accuracy: 0.8512\n",
            "Epoch 33/100\n",
            "536/536 [==============================] - 2s 4ms/step - loss: 0.3197 - accuracy: 0.8696 - val_loss: 0.3564 - val_accuracy: 0.8508\n",
            "Epoch 34/100\n",
            "536/536 [==============================] - 2s 4ms/step - loss: 0.3367 - accuracy: 0.8592 - val_loss: 0.3555 - val_accuracy: 0.8546\n",
            "Epoch 35/100\n",
            "536/536 [==============================] - 2s 3ms/step - loss: 0.3395 - accuracy: 0.8598 - val_loss: 0.3570 - val_accuracy: 0.8512\n",
            "Epoch 36/100\n",
            "536/536 [==============================] - 2s 4ms/step - loss: 0.3371 - accuracy: 0.8568 - val_loss: 0.3545 - val_accuracy: 0.8535\n",
            "Epoch 37/100\n",
            "536/536 [==============================] - 2s 4ms/step - loss: 0.3377 - accuracy: 0.8604 - val_loss: 0.3564 - val_accuracy: 0.8542\n",
            "Epoch 38/100\n",
            "536/536 [==============================] - 2s 4ms/step - loss: 0.3158 - accuracy: 0.8687 - val_loss: 0.3551 - val_accuracy: 0.8561\n",
            "Epoch 39/100\n",
            "536/536 [==============================] - 2s 4ms/step - loss: 0.3391 - accuracy: 0.8617 - val_loss: 0.3541 - val_accuracy: 0.8565\n",
            "Epoch 40/100\n",
            "536/536 [==============================] - 2s 3ms/step - loss: 0.3256 - accuracy: 0.8649 - val_loss: 0.3518 - val_accuracy: 0.8580\n",
            "Epoch 41/100\n",
            "536/536 [==============================] - 2s 3ms/step - loss: 0.3323 - accuracy: 0.8649 - val_loss: 0.3523 - val_accuracy: 0.8569\n",
            "Epoch 42/100\n",
            "536/536 [==============================] - 2s 3ms/step - loss: 0.3331 - accuracy: 0.8680 - val_loss: 0.3544 - val_accuracy: 0.8546\n",
            "Epoch 43/100\n",
            "536/536 [==============================] - 2s 3ms/step - loss: 0.3351 - accuracy: 0.8625 - val_loss: 0.3532 - val_accuracy: 0.8538\n",
            "Epoch 44/100\n",
            "536/536 [==============================] - 2s 3ms/step - loss: 0.3346 - accuracy: 0.8674 - val_loss: 0.3559 - val_accuracy: 0.8542\n",
            "Epoch 45/100\n",
            "536/536 [==============================] - 2s 4ms/step - loss: 0.3340 - accuracy: 0.8639 - val_loss: 0.3533 - val_accuracy: 0.8557\n",
            "Epoch 46/100\n",
            "536/536 [==============================] - 2s 4ms/step - loss: 0.3270 - accuracy: 0.8659 - val_loss: 0.3526 - val_accuracy: 0.8550\n",
            "Epoch 47/100\n",
            "536/536 [==============================] - 2s 4ms/step - loss: 0.3373 - accuracy: 0.8626 - val_loss: 0.3574 - val_accuracy: 0.8550\n",
            "Epoch 48/100\n",
            "536/536 [==============================] - 2s 4ms/step - loss: 0.3322 - accuracy: 0.8614 - val_loss: 0.3527 - val_accuracy: 0.8535\n",
            "Epoch 49/100\n",
            "536/536 [==============================] - 2s 4ms/step - loss: 0.3214 - accuracy: 0.8730 - val_loss: 0.3531 - val_accuracy: 0.8535\n",
            "Epoch 50/100\n",
            "536/536 [==============================] - 2s 4ms/step - loss: 0.3277 - accuracy: 0.8676 - val_loss: 0.3526 - val_accuracy: 0.8535\n",
            "Epoch 51/100\n",
            "536/536 [==============================] - 2s 4ms/step - loss: 0.3216 - accuracy: 0.8655 - val_loss: 0.3526 - val_accuracy: 0.8554\n",
            "Epoch 52/100\n",
            "536/536 [==============================] - 2s 4ms/step - loss: 0.3125 - accuracy: 0.8709 - val_loss: 0.3551 - val_accuracy: 0.8542\n",
            "Epoch 53/100\n",
            "536/536 [==============================] - 2s 4ms/step - loss: 0.3148 - accuracy: 0.8717 - val_loss: 0.3525 - val_accuracy: 0.8538\n",
            "Epoch 54/100\n",
            "536/536 [==============================] - 2s 4ms/step - loss: 0.3181 - accuracy: 0.8673 - val_loss: 0.3533 - val_accuracy: 0.8546\n",
            "Epoch 55/100\n",
            "536/536 [==============================] - 2s 4ms/step - loss: 0.3236 - accuracy: 0.8682 - val_loss: 0.3534 - val_accuracy: 0.8550\n",
            "Epoch 56/100\n",
            "536/536 [==============================] - 2s 3ms/step - loss: 0.3140 - accuracy: 0.8740 - val_loss: 0.3549 - val_accuracy: 0.8531\n",
            "Epoch 57/100\n",
            "536/536 [==============================] - 2s 3ms/step - loss: 0.3433 - accuracy: 0.8610 - val_loss: 0.3528 - val_accuracy: 0.8535\n",
            "Epoch 58/100\n",
            "536/536 [==============================] - 2s 4ms/step - loss: 0.3480 - accuracy: 0.8573 - val_loss: 0.3519 - val_accuracy: 0.8546\n",
            "Epoch 59/100\n",
            "536/536 [==============================] - 2s 3ms/step - loss: 0.3089 - accuracy: 0.8777 - val_loss: 0.3495 - val_accuracy: 0.8557\n",
            "Epoch 60/100\n",
            "536/536 [==============================] - 2s 4ms/step - loss: 0.3292 - accuracy: 0.8622 - val_loss: 0.3526 - val_accuracy: 0.8535\n",
            "Epoch 61/100\n",
            "536/536 [==============================] - 2s 4ms/step - loss: 0.3233 - accuracy: 0.8721 - val_loss: 0.3554 - val_accuracy: 0.8542\n",
            "Epoch 62/100\n",
            "536/536 [==============================] - 2s 4ms/step - loss: 0.3437 - accuracy: 0.8568 - val_loss: 0.3510 - val_accuracy: 0.8554\n",
            "Epoch 63/100\n",
            "536/536 [==============================] - 2s 3ms/step - loss: 0.3258 - accuracy: 0.8653 - val_loss: 0.3520 - val_accuracy: 0.8554\n",
            "Epoch 64/100\n",
            "536/536 [==============================] - 2s 3ms/step - loss: 0.3301 - accuracy: 0.8634 - val_loss: 0.3516 - val_accuracy: 0.8576\n",
            "Epoch 65/100\n",
            "536/536 [==============================] - 2s 4ms/step - loss: 0.3205 - accuracy: 0.8687 - val_loss: 0.3527 - val_accuracy: 0.8538\n",
            "Epoch 66/100\n",
            "536/536 [==============================] - 2s 3ms/step - loss: 0.3067 - accuracy: 0.8752 - val_loss: 0.3518 - val_accuracy: 0.8561\n",
            "Epoch 67/100\n",
            "536/536 [==============================] - 2s 3ms/step - loss: 0.3354 - accuracy: 0.8635 - val_loss: 0.3517 - val_accuracy: 0.8569\n",
            "Epoch 68/100\n",
            "536/536 [==============================] - 2s 4ms/step - loss: 0.3317 - accuracy: 0.8623 - val_loss: 0.3522 - val_accuracy: 0.8561\n",
            "Epoch 69/100\n",
            "536/536 [==============================] - 2s 4ms/step - loss: 0.3251 - accuracy: 0.8624 - val_loss: 0.3534 - val_accuracy: 0.8565\n",
            "Epoch 70/100\n",
            "536/536 [==============================] - 2s 3ms/step - loss: 0.3253 - accuracy: 0.8701 - val_loss: 0.3518 - val_accuracy: 0.8561\n",
            "Epoch 71/100\n",
            "536/536 [==============================] - 2s 4ms/step - loss: 0.3327 - accuracy: 0.8674 - val_loss: 0.3530 - val_accuracy: 0.8535\n",
            "Epoch 72/100\n",
            "536/536 [==============================] - 2s 3ms/step - loss: 0.3282 - accuracy: 0.8662 - val_loss: 0.3529 - val_accuracy: 0.8569\n",
            "Epoch 73/100\n",
            "536/536 [==============================] - 2s 4ms/step - loss: 0.3339 - accuracy: 0.8614 - val_loss: 0.3547 - val_accuracy: 0.8542\n",
            "Epoch 74/100\n",
            "536/536 [==============================] - 2s 3ms/step - loss: 0.3176 - accuracy: 0.8699 - val_loss: 0.3537 - val_accuracy: 0.8546\n",
            "Epoch 75/100\n",
            "536/536 [==============================] - 2s 4ms/step - loss: 0.3357 - accuracy: 0.8618 - val_loss: 0.3527 - val_accuracy: 0.8557\n",
            "Epoch 76/100\n",
            "536/536 [==============================] - 2s 4ms/step - loss: 0.3350 - accuracy: 0.8570 - val_loss: 0.3516 - val_accuracy: 0.8561\n",
            "Epoch 77/100\n",
            "536/536 [==============================] - 2s 4ms/step - loss: 0.3311 - accuracy: 0.8654 - val_loss: 0.3533 - val_accuracy: 0.8554\n",
            "Epoch 78/100\n",
            "536/536 [==============================] - 2s 3ms/step - loss: 0.3327 - accuracy: 0.8666 - val_loss: 0.3507 - val_accuracy: 0.8584\n",
            "Epoch 79/100\n",
            "536/536 [==============================] - 2s 3ms/step - loss: 0.3165 - accuracy: 0.8686 - val_loss: 0.3527 - val_accuracy: 0.8569\n",
            "Epoch 80/100\n",
            "536/536 [==============================] - 2s 4ms/step - loss: 0.3263 - accuracy: 0.8650 - val_loss: 0.3522 - val_accuracy: 0.8561\n",
            "Epoch 81/100\n",
            "536/536 [==============================] - 2s 4ms/step - loss: 0.3258 - accuracy: 0.8677 - val_loss: 0.3534 - val_accuracy: 0.8561\n",
            "Epoch 82/100\n",
            "536/536 [==============================] - 2s 4ms/step - loss: 0.3304 - accuracy: 0.8688 - val_loss: 0.3524 - val_accuracy: 0.8573\n",
            "Epoch 83/100\n",
            "536/536 [==============================] - 2s 3ms/step - loss: 0.3134 - accuracy: 0.8765 - val_loss: 0.3531 - val_accuracy: 0.8573\n",
            "Epoch 84/100\n",
            "536/536 [==============================] - 2s 3ms/step - loss: 0.3402 - accuracy: 0.8620 - val_loss: 0.3535 - val_accuracy: 0.8580\n",
            "Epoch 85/100\n",
            "536/536 [==============================] - 2s 4ms/step - loss: 0.3333 - accuracy: 0.8663 - val_loss: 0.3519 - val_accuracy: 0.8576\n",
            "Epoch 86/100\n",
            "536/536 [==============================] - 2s 3ms/step - loss: 0.3316 - accuracy: 0.8663 - val_loss: 0.3510 - val_accuracy: 0.8573\n",
            "Epoch 87/100\n",
            "536/536 [==============================] - 2s 3ms/step - loss: 0.3124 - accuracy: 0.8746 - val_loss: 0.3521 - val_accuracy: 0.8569\n",
            "Epoch 88/100\n",
            "536/536 [==============================] - 2s 3ms/step - loss: 0.3271 - accuracy: 0.8694 - val_loss: 0.3538 - val_accuracy: 0.8576\n",
            "Epoch 89/100\n",
            "536/536 [==============================] - 2s 4ms/step - loss: 0.3293 - accuracy: 0.8684 - val_loss: 0.3539 - val_accuracy: 0.8576\n",
            "Epoch 90/100\n",
            "536/536 [==============================] - 2s 3ms/step - loss: 0.3194 - accuracy: 0.8728 - val_loss: 0.3546 - val_accuracy: 0.8561\n",
            "Epoch 91/100\n",
            "536/536 [==============================] - 2s 4ms/step - loss: 0.3116 - accuracy: 0.8733 - val_loss: 0.3515 - val_accuracy: 0.8576\n",
            "Epoch 92/100\n",
            "536/536 [==============================] - 2s 4ms/step - loss: 0.3226 - accuracy: 0.8686 - val_loss: 0.3522 - val_accuracy: 0.8588\n",
            "Epoch 93/100\n",
            "536/536 [==============================] - 2s 4ms/step - loss: 0.3118 - accuracy: 0.8725 - val_loss: 0.3518 - val_accuracy: 0.8588\n",
            "Epoch 94/100\n",
            "536/536 [==============================] - 2s 3ms/step - loss: 0.3440 - accuracy: 0.8574 - val_loss: 0.3528 - val_accuracy: 0.8576\n",
            "Epoch 95/100\n",
            "536/536 [==============================] - 2s 3ms/step - loss: 0.3280 - accuracy: 0.8692 - val_loss: 0.3534 - val_accuracy: 0.8561\n",
            "Epoch 96/100\n",
            "536/536 [==============================] - 2s 4ms/step - loss: 0.3343 - accuracy: 0.8608 - val_loss: 0.3521 - val_accuracy: 0.8573\n",
            "Epoch 97/100\n",
            "536/536 [==============================] - 2s 3ms/step - loss: 0.3365 - accuracy: 0.8639 - val_loss: 0.3541 - val_accuracy: 0.8554\n",
            "Epoch 98/100\n",
            "536/536 [==============================] - 2s 3ms/step - loss: 0.3299 - accuracy: 0.8685 - val_loss: 0.3515 - val_accuracy: 0.8576\n",
            "Epoch 99/100\n",
            "536/536 [==============================] - 2s 3ms/step - loss: 0.3179 - accuracy: 0.8757 - val_loss: 0.3529 - val_accuracy: 0.8595\n",
            "Epoch 100/100\n",
            "536/536 [==============================] - 2s 3ms/step - loss: 0.3236 - accuracy: 0.8713 - val_loss: 0.3511 - val_accuracy: 0.8595\n",
            "dict_keys(['loss', 'accuracy', 'val_loss', 'val_accuracy'])\n"
          ],
          "name": "stdout"
        }
      ]
    },
    {
      "cell_type": "code",
      "metadata": {
        "id": "Nix2kWl_bG8F"
      },
      "source": [
        ""
      ],
      "execution_count": null,
      "outputs": []
    }
  ]
}